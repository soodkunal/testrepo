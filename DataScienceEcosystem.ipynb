{
 "cells": [
  {
   "cell_type": "markdown",
   "id": "aff7010c",
   "metadata": {},
   "source": [
    "Data Science Tools and Ecosystem"
   ]
  },
  {
   "cell_type": "markdown",
   "id": "f6da9e8d",
   "metadata": {},
   "source": [
    "In this notebook, Data Science Tools and Ecosystem are summarized"
   ]
  },
  {
   "cell_type": "markdown",
   "id": "76ac36fc",
   "metadata": {},
   "source": [
    "**Objectives**"
   ]
  },
  {
   "cell_type": "code",
   "execution_count": 6,
   "id": "3ff1c260",
   "metadata": {},
   "outputs": [],
   "source": [
    "unordered_list=['Python','R','Julia','Java','Sql']"
   ]
  },
  {
   "cell_type": "markdown",
   "id": "618fcba7",
   "metadata": {},
   "source": [
    "Some of the popular languages that Data Scientists use are:"
   ]
  },
  {
   "cell_type": "code",
   "execution_count": 3,
   "id": "30cd3722",
   "metadata": {},
   "outputs": [
    {
     "data": {
      "text/plain": [
       "['Matlab', 'Python', 'R']"
      ]
     },
     "execution_count": 3,
     "metadata": {},
     "output_type": "execute_result"
    }
   ],
   "source": [
    "ordered_list= ['Python','R','Matlab']\n",
    "ordered_list.sort()\n",
    "ordered_list"
   ]
  },
  {
   "cell_type": "markdown",
   "id": "86e506f8",
   "metadata": {},
   "source": [
    "| Data Science Tools |\n",
    "| Jupyter Notebook   |\n",
    "| RStudio            |\n",
    "| VS Code with Python|\n"
   ]
  },
  {
   "cell_type": "markdown",
   "id": "191da02b",
   "metadata": {},
   "source": [
    "Below are a few examples of evaluating arithmetic expressions in Python\n"
   ]
  },
  {
   "cell_type": "code",
   "execution_count": 4,
   "id": "88c6523c",
   "metadata": {},
   "outputs": [
    {
     "data": {
      "text/plain": [
       "17"
      ]
     },
     "execution_count": 4,
     "metadata": {},
     "output_type": "execute_result"
    }
   ],
   "source": [
    "#This a simple arithmetic expression to mutiply then add integers\n",
    "(3*4)+5"
   ]
  },
  {
   "cell_type": "code",
   "execution_count": 5,
   "id": "1a832d50",
   "metadata": {},
   "outputs": [
    {
     "data": {
      "text/plain": [
       "3.3333333333333335"
      ]
     },
     "execution_count": 5,
     "metadata": {},
     "output_type": "execute_result"
    }
   ],
   "source": [
    "#This will convert 200 minutes to hours by diving by 60\n",
    "float(200/60)\n"
   ]
  },
  {
   "cell_type": "markdown",
   "id": "e3de3b69",
   "metadata": {},
   "source": [
    "##Author\n",
    "KUNAL SOOD"
   ]
  }
 ],
 "metadata": {
  "kernelspec": {
   "display_name": "Python 3 (ipykernel)",
   "language": "python",
   "name": "python3"
  },
  "language_info": {
   "codemirror_mode": {
    "name": "ipython",
    "version": 3
   },
   "file_extension": ".py",
   "mimetype": "text/x-python",
   "name": "python",
   "nbconvert_exporter": "python",
   "pygments_lexer": "ipython3",
   "version": "3.10.9"
  }
 },
 "nbformat": 4,
 "nbformat_minor": 5
}
